{
 "cells": [
  {
   "cell_type": "code",
   "execution_count": 1,
   "id": "6b495dba",
   "metadata": {
    "execution": {
     "iopub.execute_input": "2023-06-30T11:08:09.158313Z",
     "iopub.status.busy": "2023-06-30T11:08:09.157938Z",
     "iopub.status.idle": "2023-06-30T11:08:10.803867Z",
     "shell.execute_reply": "2023-06-30T11:08:10.802680Z"
    },
    "papermill": {
     "duration": 1.654717,
     "end_time": "2023-06-30T11:08:10.806611",
     "exception": false,
     "start_time": "2023-06-30T11:08:09.151894",
     "status": "completed"
    },
    "tags": []
   },
   "outputs": [],
   "source": [
    "import numpy as np\n",
    "import pandas as pd\n",
    "from sklearn.model_selection import GridSearchCV\n",
    "from sklearn.linear_model import ElasticNet\n",
    "from sklearn.linear_model import LinearRegression \n",
    "from sklearn.metrics import mean_squared_error\n"
   ]
  },
  {
   "cell_type": "code",
   "execution_count": 2,
   "id": "ed692c58",
   "metadata": {
    "execution": {
     "iopub.execute_input": "2023-06-30T11:08:10.816717Z",
     "iopub.status.busy": "2023-06-30T11:08:10.815736Z",
     "iopub.status.idle": "2023-06-30T11:08:10.879006Z",
     "shell.execute_reply": "2023-06-30T11:08:10.878093Z"
    },
    "papermill": {
     "duration": 0.07114,
     "end_time": "2023-06-30T11:08:10.881744",
     "exception": false,
     "start_time": "2023-06-30T11:08:10.810604",
     "status": "completed"
    },
    "tags": []
   },
   "outputs": [
    {
     "data": {
      "text/html": [
       "<div>\n",
       "<style scoped>\n",
       "    .dataframe tbody tr th:only-of-type {\n",
       "        vertical-align: middle;\n",
       "    }\n",
       "\n",
       "    .dataframe tbody tr th {\n",
       "        vertical-align: top;\n",
       "    }\n",
       "\n",
       "    .dataframe thead th {\n",
       "        text-align: right;\n",
       "    }\n",
       "</style>\n",
       "<table border=\"1\" class=\"dataframe\">\n",
       "  <thead>\n",
       "    <tr style=\"text-align: right;\">\n",
       "      <th></th>\n",
       "      <th>Unnamed: 0</th>\n",
       "      <th>affairs</th>\n",
       "      <th>gender</th>\n",
       "      <th>age</th>\n",
       "      <th>yearsmarried</th>\n",
       "      <th>children</th>\n",
       "      <th>religiousness</th>\n",
       "      <th>education</th>\n",
       "      <th>occupation</th>\n",
       "      <th>rating</th>\n",
       "    </tr>\n",
       "  </thead>\n",
       "  <tbody>\n",
       "    <tr>\n",
       "      <th>0</th>\n",
       "      <td>4</td>\n",
       "      <td>0</td>\n",
       "      <td>male</td>\n",
       "      <td>37.0</td>\n",
       "      <td>10.00</td>\n",
       "      <td>no</td>\n",
       "      <td>3</td>\n",
       "      <td>18</td>\n",
       "      <td>7</td>\n",
       "      <td>4</td>\n",
       "    </tr>\n",
       "    <tr>\n",
       "      <th>1</th>\n",
       "      <td>5</td>\n",
       "      <td>0</td>\n",
       "      <td>female</td>\n",
       "      <td>27.0</td>\n",
       "      <td>4.00</td>\n",
       "      <td>no</td>\n",
       "      <td>4</td>\n",
       "      <td>14</td>\n",
       "      <td>6</td>\n",
       "      <td>4</td>\n",
       "    </tr>\n",
       "    <tr>\n",
       "      <th>2</th>\n",
       "      <td>11</td>\n",
       "      <td>0</td>\n",
       "      <td>female</td>\n",
       "      <td>32.0</td>\n",
       "      <td>15.00</td>\n",
       "      <td>yes</td>\n",
       "      <td>1</td>\n",
       "      <td>12</td>\n",
       "      <td>1</td>\n",
       "      <td>4</td>\n",
       "    </tr>\n",
       "    <tr>\n",
       "      <th>3</th>\n",
       "      <td>16</td>\n",
       "      <td>0</td>\n",
       "      <td>male</td>\n",
       "      <td>57.0</td>\n",
       "      <td>15.00</td>\n",
       "      <td>yes</td>\n",
       "      <td>5</td>\n",
       "      <td>18</td>\n",
       "      <td>6</td>\n",
       "      <td>5</td>\n",
       "    </tr>\n",
       "    <tr>\n",
       "      <th>4</th>\n",
       "      <td>23</td>\n",
       "      <td>0</td>\n",
       "      <td>male</td>\n",
       "      <td>22.0</td>\n",
       "      <td>0.75</td>\n",
       "      <td>no</td>\n",
       "      <td>2</td>\n",
       "      <td>17</td>\n",
       "      <td>6</td>\n",
       "      <td>3</td>\n",
       "    </tr>\n",
       "  </tbody>\n",
       "</table>\n",
       "</div>"
      ],
      "text/plain": [
       "   Unnamed: 0  affairs  gender   age  yearsmarried children  religiousness  \\\n",
       "0           4        0    male  37.0         10.00       no              3   \n",
       "1           5        0  female  27.0          4.00       no              4   \n",
       "2          11        0  female  32.0         15.00      yes              1   \n",
       "3          16        0    male  57.0         15.00      yes              5   \n",
       "4          23        0    male  22.0          0.75       no              2   \n",
       "\n",
       "   education  occupation  rating  \n",
       "0         18           7       4  \n",
       "1         14           6       4  \n",
       "2         12           1       4  \n",
       "3         18           6       5  \n",
       "4         17           6       3  "
      ]
     },
     "execution_count": 2,
     "metadata": {},
     "output_type": "execute_result"
    }
   ],
   "source": [
    "df = pd.read_csv('/kaggle/input/fairs-extramarital-affairs-data/Affairs.csv')\n",
    "df.head()"
   ]
  },
  {
   "cell_type": "code",
   "execution_count": 3,
   "id": "edcf7105",
   "metadata": {
    "execution": {
     "iopub.execute_input": "2023-06-30T11:08:10.893880Z",
     "iopub.status.busy": "2023-06-30T11:08:10.893424Z",
     "iopub.status.idle": "2023-06-30T11:08:10.908852Z",
     "shell.execute_reply": "2023-06-30T11:08:10.907807Z"
    },
    "papermill": {
     "duration": 0.024825,
     "end_time": "2023-06-30T11:08:10.911388",
     "exception": false,
     "start_time": "2023-06-30T11:08:10.886563",
     "status": "completed"
    },
    "tags": []
   },
   "outputs": [],
   "source": [
    "df.loc[df.gender== 'male', 'gender'] = 0\n",
    "df.loc[df.gender== 'female', 'gender'] = 1\n",
    "df['gender'] = df['gender'].astype(int)\n",
    "df.loc[df.children== 'no', 'children'] = 0\n",
    "df.loc[df.children== 'yes', 'children'] = 1\n",
    "df['children'] = df['children'].astype(int)"
   ]
  },
  {
   "cell_type": "code",
   "execution_count": 4,
   "id": "579e8b69",
   "metadata": {
    "execution": {
     "iopub.execute_input": "2023-06-30T11:08:10.922199Z",
     "iopub.status.busy": "2023-06-30T11:08:10.921797Z",
     "iopub.status.idle": "2023-06-30T11:08:10.939198Z",
     "shell.execute_reply": "2023-06-30T11:08:10.937669Z"
    },
    "papermill": {
     "duration": 0.025982,
     "end_time": "2023-06-30T11:08:10.941699",
     "exception": false,
     "start_time": "2023-06-30T11:08:10.915717",
     "status": "completed"
    },
    "tags": []
   },
   "outputs": [
    {
     "data": {
      "text/html": [
       "<div>\n",
       "<style scoped>\n",
       "    .dataframe tbody tr th:only-of-type {\n",
       "        vertical-align: middle;\n",
       "    }\n",
       "\n",
       "    .dataframe tbody tr th {\n",
       "        vertical-align: top;\n",
       "    }\n",
       "\n",
       "    .dataframe thead th {\n",
       "        text-align: right;\n",
       "    }\n",
       "</style>\n",
       "<table border=\"1\" class=\"dataframe\">\n",
       "  <thead>\n",
       "    <tr style=\"text-align: right;\">\n",
       "      <th></th>\n",
       "      <th>Unnamed: 0</th>\n",
       "      <th>affairs</th>\n",
       "      <th>gender</th>\n",
       "      <th>age</th>\n",
       "      <th>yearsmarried</th>\n",
       "      <th>children</th>\n",
       "      <th>religiousness</th>\n",
       "      <th>education</th>\n",
       "      <th>occupation</th>\n",
       "      <th>rating</th>\n",
       "    </tr>\n",
       "  </thead>\n",
       "  <tbody>\n",
       "    <tr>\n",
       "      <th>0</th>\n",
       "      <td>4</td>\n",
       "      <td>0</td>\n",
       "      <td>0</td>\n",
       "      <td>37.0</td>\n",
       "      <td>10.00</td>\n",
       "      <td>0</td>\n",
       "      <td>3</td>\n",
       "      <td>18</td>\n",
       "      <td>7</td>\n",
       "      <td>4</td>\n",
       "    </tr>\n",
       "    <tr>\n",
       "      <th>1</th>\n",
       "      <td>5</td>\n",
       "      <td>0</td>\n",
       "      <td>1</td>\n",
       "      <td>27.0</td>\n",
       "      <td>4.00</td>\n",
       "      <td>0</td>\n",
       "      <td>4</td>\n",
       "      <td>14</td>\n",
       "      <td>6</td>\n",
       "      <td>4</td>\n",
       "    </tr>\n",
       "    <tr>\n",
       "      <th>2</th>\n",
       "      <td>11</td>\n",
       "      <td>0</td>\n",
       "      <td>1</td>\n",
       "      <td>32.0</td>\n",
       "      <td>15.00</td>\n",
       "      <td>1</td>\n",
       "      <td>1</td>\n",
       "      <td>12</td>\n",
       "      <td>1</td>\n",
       "      <td>4</td>\n",
       "    </tr>\n",
       "    <tr>\n",
       "      <th>3</th>\n",
       "      <td>16</td>\n",
       "      <td>0</td>\n",
       "      <td>0</td>\n",
       "      <td>57.0</td>\n",
       "      <td>15.00</td>\n",
       "      <td>1</td>\n",
       "      <td>5</td>\n",
       "      <td>18</td>\n",
       "      <td>6</td>\n",
       "      <td>5</td>\n",
       "    </tr>\n",
       "    <tr>\n",
       "      <th>4</th>\n",
       "      <td>23</td>\n",
       "      <td>0</td>\n",
       "      <td>0</td>\n",
       "      <td>22.0</td>\n",
       "      <td>0.75</td>\n",
       "      <td>0</td>\n",
       "      <td>2</td>\n",
       "      <td>17</td>\n",
       "      <td>6</td>\n",
       "      <td>3</td>\n",
       "    </tr>\n",
       "  </tbody>\n",
       "</table>\n",
       "</div>"
      ],
      "text/plain": [
       "   Unnamed: 0  affairs  gender   age  yearsmarried  children  religiousness  \\\n",
       "0           4        0       0  37.0         10.00         0              3   \n",
       "1           5        0       1  27.0          4.00         0              4   \n",
       "2          11        0       1  32.0         15.00         1              1   \n",
       "3          16        0       0  57.0         15.00         1              5   \n",
       "4          23        0       0  22.0          0.75         0              2   \n",
       "\n",
       "   education  occupation  rating  \n",
       "0         18           7       4  \n",
       "1         14           6       4  \n",
       "2         12           1       4  \n",
       "3         18           6       5  \n",
       "4         17           6       3  "
      ]
     },
     "execution_count": 4,
     "metadata": {},
     "output_type": "execute_result"
    }
   ],
   "source": [
    "df.head()"
   ]
  },
  {
   "cell_type": "code",
   "execution_count": 5,
   "id": "d47becd3",
   "metadata": {
    "execution": {
     "iopub.execute_input": "2023-06-30T11:08:10.952305Z",
     "iopub.status.busy": "2023-06-30T11:08:10.951915Z",
     "iopub.status.idle": "2023-06-30T11:08:10.964049Z",
     "shell.execute_reply": "2023-06-30T11:08:10.962529Z"
    },
    "papermill": {
     "duration": 0.020588,
     "end_time": "2023-06-30T11:08:10.966874",
     "exception": false,
     "start_time": "2023-06-30T11:08:10.946286",
     "status": "completed"
    },
    "tags": []
   },
   "outputs": [],
   "source": [
    "X = df[['religiousness', 'age', 'gender', 'yearsmarried', 'education', 'occupation', 'affairs']]\n",
    "y = df['rating']"
   ]
  },
  {
   "cell_type": "markdown",
   "id": "dbb64158",
   "metadata": {
    "papermill": {
     "duration": 0.004818,
     "end_time": "2023-06-30T11:08:10.976284",
     "exception": false,
     "start_time": "2023-06-30T11:08:10.971466",
     "status": "completed"
    },
    "tags": []
   },
   "source": [
    "## base model"
   ]
  },
  {
   "cell_type": "code",
   "execution_count": 6,
   "id": "e383de32",
   "metadata": {
    "execution": {
     "iopub.execute_input": "2023-06-30T11:08:10.986963Z",
     "iopub.status.busy": "2023-06-30T11:08:10.986453Z",
     "iopub.status.idle": "2023-06-30T11:08:11.018329Z",
     "shell.execute_reply": "2023-06-30T11:08:11.017082Z"
    },
    "papermill": {
     "duration": 0.040032,
     "end_time": "2023-06-30T11:08:11.020879",
     "exception": false,
     "start_time": "2023-06-30T11:08:10.980847",
     "status": "completed"
    },
    "tags": []
   },
   "outputs": [
    {
     "name": "stdout",
     "output_type": "stream",
     "text": [
      "1.049873864469667\n"
     ]
    }
   ],
   "source": [
    "regression = LinearRegression()\n",
    "regression.fit(X,y)\n",
    "first_model = (mean_squared_error(y_true=y,y_pred=regression.predict(X)))\n",
    "print(first_model)"
   ]
  },
  {
   "cell_type": "markdown",
   "id": "6dea1a3f",
   "metadata": {
    "papermill": {
     "duration": 0.00432,
     "end_time": "2023-06-30T11:08:11.032555",
     "exception": false,
     "start_time": "2023-06-30T11:08:11.028235",
     "status": "completed"
    },
    "tags": []
   },
   "source": [
    "Benchmark is MSE = 1.05. Coeffients of first model is below. Loop go through model and zip fucntion to combine two columns. "
   ]
  },
  {
   "cell_type": "code",
   "execution_count": 7,
   "id": "27009fbf",
   "metadata": {
    "execution": {
     "iopub.execute_input": "2023-06-30T11:08:11.043004Z",
     "iopub.status.busy": "2023-06-30T11:08:11.042601Z",
     "iopub.status.idle": "2023-06-30T11:08:11.051428Z",
     "shell.execute_reply": "2023-06-30T11:08:11.049721Z"
    },
    "papermill": {
     "duration": 0.017241,
     "end_time": "2023-06-30T11:08:11.054210",
     "exception": false,
     "start_time": "2023-06-30T11:08:11.036969",
     "status": "completed"
    },
    "tags": []
   },
   "outputs": [
    {
     "data": {
      "text/plain": [
       "{'religiousness': 0.042352811106391774,\n",
       " 'age': -0.009059645428673824,\n",
       " 'gender': 0.08882013337087079,\n",
       " 'yearsmarried': -0.030458802565476582,\n",
       " 'education': 0.06810255742293711,\n",
       " 'occupation': -0.005979506852998218,\n",
       " 'affairs': -0.07882571247653963}"
      ]
     },
     "execution_count": 7,
     "metadata": {},
     "output_type": "execute_result"
    }
   ],
   "source": [
    "coef_dict_baseline = {}\n",
    "for coef, feat in zip (regression.coef_,X.columns):\n",
    "    coef_dict_baseline[feat] = coef\n",
    "coef_dict_baseline"
   ]
  },
  {
   "cell_type": "markdown",
   "id": "726fbf3a",
   "metadata": {
    "papermill": {
     "duration": 0.004374,
     "end_time": "2023-06-30T11:08:11.063148",
     "exception": false,
     "start_time": "2023-06-30T11:08:11.058774",
     "status": "completed"
    },
    "tags": []
   },
   "source": [
    "## Elastic net"
   ]
  },
  {
   "cell_type": "code",
   "execution_count": 8,
   "id": "9ae7c338",
   "metadata": {
    "execution": {
     "iopub.execute_input": "2023-06-30T11:08:11.074275Z",
     "iopub.status.busy": "2023-06-30T11:08:11.073844Z",
     "iopub.status.idle": "2023-06-30T11:08:11.745731Z",
     "shell.execute_reply": "2023-06-30T11:08:11.744505Z"
    },
    "papermill": {
     "duration": 0.680542,
     "end_time": "2023-06-30T11:08:11.748177",
     "exception": false,
     "start_time": "2023-06-30T11:08:11.067635",
     "status": "completed"
    },
    "tags": []
   },
   "outputs": [
    {
     "name": "stdout",
     "output_type": "stream",
     "text": [
      "{'alpha': 0.1, 'l1_ratio': 0.2}\n",
      "1.082099130262313\n"
     ]
    }
   ],
   "source": [
    "from sklearn.linear_model import ElasticNet\n",
    "from sklearn.model_selection import GridSearchCV\n",
    "from sklearn.preprocessing import StandardScaler\n",
    "import numpy as np\n",
    "\n",
    "# Initialize an instance of ElasticNet\n",
    "elastic = ElasticNet()\n",
    "\n",
    "# Create a scaler for feature normalization\n",
    "scaler = StandardScaler()\n",
    "\n",
    "# Define the parameter grid for grid search\n",
    "param_grid = {\n",
    "    'alpha': np.logspace(-5, 2, 8),\n",
    "    'l1_ratio': [.2, .4, .6, .8]\n",
    "}\n",
    "\n",
    "# Create the GridSearchCV object\n",
    "search = GridSearchCV(\n",
    "    estimator=elastic,\n",
    "    param_grid=param_grid,\n",
    "    scoring='neg_mean_squared_error',\n",
    "    n_jobs=1,\n",
    "    refit=True,\n",
    "    cv=10\n",
    ")\n",
    "\n",
    "# Fit the search object to your data\n",
    "search.fit(scaler.fit_transform(X), y)\n",
    "\n",
    "# Access the best parameters and best score\n",
    "print(search.best_params_)\n",
    "print(abs(search.best_score_))\n"
   ]
  },
  {
   "cell_type": "code",
   "execution_count": 9,
   "id": "1dd52ca4",
   "metadata": {
    "execution": {
     "iopub.execute_input": "2023-06-30T11:08:11.760020Z",
     "iopub.status.busy": "2023-06-30T11:08:11.759381Z",
     "iopub.status.idle": "2023-06-30T11:08:11.771455Z",
     "shell.execute_reply": "2023-06-30T11:08:11.770323Z"
    },
    "papermill": {
     "duration": 0.020695,
     "end_time": "2023-06-30T11:08:11.774048",
     "exception": false,
     "start_time": "2023-06-30T11:08:11.753353",
     "status": "completed"
    },
    "tags": []
   },
   "outputs": [
    {
     "name": "stdout",
     "output_type": "stream",
     "text": [
      "1.054803668959378\n"
     ]
    }
   ],
   "source": [
    "from sklearn.linear_model import ElasticNet\n",
    "from sklearn.metrics import mean_squared_error\n",
    "from sklearn.preprocessing import StandardScaler\n",
    "\n",
    "# Initialize an instance of ElasticNet\n",
    "elastic = ElasticNet(alpha=0.1, l1_ratio=0.2)\n",
    "\n",
    "# Create a scaler for feature normalization\n",
    "scaler = StandardScaler()\n",
    "\n",
    "# Normalize the input features\n",
    "X_normalized = scaler.fit_transform(X)\n",
    "\n",
    "# Fit the ElasticNet model to the data\n",
    "elastic.fit(X_normalized, y)\n",
    "\n",
    "# Calculate the mean squared error\n",
    "second_model = mean_squared_error(y_true=y, y_pred=elastic.predict(X_normalized))\n",
    "print(second_model)\n"
   ]
  },
  {
   "cell_type": "code",
   "execution_count": 10,
   "id": "f916a956",
   "metadata": {
    "execution": {
     "iopub.execute_input": "2023-06-30T11:08:11.785189Z",
     "iopub.status.busy": "2023-06-30T11:08:11.784777Z",
     "iopub.status.idle": "2023-06-30T11:08:11.792552Z",
     "shell.execute_reply": "2023-06-30T11:08:11.791425Z"
    },
    "papermill": {
     "duration": 0.016321,
     "end_time": "2023-06-30T11:08:11.795099",
     "exception": false,
     "start_time": "2023-06-30T11:08:11.778778",
     "status": "completed"
    },
    "tags": []
   },
   "outputs": [
    {
     "data": {
      "text/plain": [
       "{'religiousness': 0.022384075219597198,\n",
       " 'age': -0.07862087999645949,\n",
       " 'gender': 0.010257030159819398,\n",
       " 'yearsmarried': -0.1412598148984351,\n",
       " 'education': 0.112202230296599,\n",
       " 'occupation': -0.0,\n",
       " 'affairs': -0.23202450198262234}"
      ]
     },
     "execution_count": 10,
     "metadata": {},
     "output_type": "execute_result"
    }
   ],
   "source": [
    "coef_dict_baseline = {}\n",
    "for coef, feat in zip(elastic.coef_,X.columns):\n",
    "    coef_dict_baseline[feat] = coef\n",
    "coef_dict_baseline"
   ]
  },
  {
   "cell_type": "markdown",
   "id": "6b8649f5",
   "metadata": {
    "papermill": {
     "duration": 0.004357,
     "end_time": "2023-06-30T11:08:11.804194",
     "exception": false,
     "start_time": "2023-06-30T11:08:11.799837",
     "status": "completed"
    },
    "tags": []
   },
   "source": [
    "occupation removed"
   ]
  }
 ],
 "metadata": {
  "kernelspec": {
   "display_name": "Python 3",
   "language": "python",
   "name": "python3"
  },
  "language_info": {
   "codemirror_mode": {
    "name": "ipython",
    "version": 3
   },
   "file_extension": ".py",
   "mimetype": "text/x-python",
   "name": "python",
   "nbconvert_exporter": "python",
   "pygments_lexer": "ipython3",
   "version": "3.10.10"
  },
  "papermill": {
   "default_parameters": {},
   "duration": 15.431216,
   "end_time": "2023-06-30T11:08:12.832824",
   "environment_variables": {},
   "exception": null,
   "input_path": "__notebook__.ipynb",
   "output_path": "__notebook__.ipynb",
   "parameters": {},
   "start_time": "2023-06-30T11:07:57.401608",
   "version": "2.4.0"
  }
 },
 "nbformat": 4,
 "nbformat_minor": 5
}
